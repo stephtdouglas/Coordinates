{
 "cells": [
  {
   "cell_type": "code",
   "execution_count": null,
   "metadata": {},
   "outputs": [],
   "source": [
    "from __future__ import division, print_function, absolute_import \n",
    "\n",
    "import matplotlib.pyplot as plt\n",
    "%matplotlib inline\n",
    "# import matplotlib.ticker\n",
    "import matplotlib.cm as cm\n",
    "import matplotlib.colors as colors\n",
    "from matplotlib.font_manager import FontProperties\n",
    "import numpy as np\n",
    "import astropy.io.ascii as at\n",
    "import astropy.io.fits as fits\n",
    "import astropy.table as table\n",
    "import astropy.units as u\n",
    "from astropy.coordinates import SkyCoord"
   ]
  },
  {
   "cell_type": "markdown",
   "metadata": {},
   "source": [
    "# A few definitions"
   ]
  },
  {
   "cell_type": "code",
   "execution_count": null,
   "metadata": {},
   "outputs": [],
   "source": [
    "single_figure = (8,8)"
   ]
  },
  {
   "cell_type": "code",
   "execution_count": null,
   "metadata": {},
   "outputs": [],
   "source": [
    "import matplotlib as mpl\n",
    "mpl.rcParams['lines.markeredgewidth'] = 1.5\n",
    "mpl.rcParams['lines.markersize'] = 8\n",
    "mpl.rcParams['font.size'] = 16\n",
    "mpl.rcParams['axes.titlesize'] = 24\n",
    "mpl.rcParams['axes.labelsize'] = 22\n",
    "mpl.rcParams['xtick.major.size'] = 6\n",
    "mpl.rcParams['xtick.minor.size'] = 3\n",
    "mpl.rcParams['xtick.major.width'] = 1.5\n",
    "mpl.rcParams['xtick.minor.width'] = 1\n",
    "mpl.rcParams['xtick.labelsize'] = 18\n",
    "mpl.rcParams['ytick.major.size'] = 6\n",
    "mpl.rcParams['ytick.minor.size'] = 3\n",
    "mpl.rcParams['ytick.major.width'] = 1.5\n",
    "mpl.rcParams['ytick.minor.width'] = 1\n",
    "mpl.rcParams['ytick.labelsize'] = 18\n",
    "mpl.rcParams['legend.frameon'] = False\n",
    "mpl.rcParams['legend.numpoints'] = 1\n",
    "mpl.rcParams['legend.fontsize'] = 16\n",
    "# mpl.rcParams[''] = "
   ]
  },
  {
   "cell_type": "markdown",
   "metadata": {},
   "source": [
    "# Astropy angles and SkyCoord\n",
    "\n",
    "from http://astropy-tutorials.readthedocs.io/en/latest/rst-tutorials/Coordinates-Intro.html"
   ]
  },
  {
   "cell_type": "markdown",
   "metadata": {},
   "source": [
    "The `SkyCoord` class in the `astropy.coordinates` package is used to represent celestial coordinates. First, we'll make a SkyCoord object based on our object's name, \"Praesepe\", or \"M44\" for short. Most astronomical object names can be found by [SESAME](http://cdsweb.u-strasbg.fr/cgi-bin/Sesame), a service which queries Simbad, NED, and VizieR and returns the object's type and its J2000 position. This service can be used via the `SkyCoord.from_name()` [class method](https://julien.danjou.info/blog/2013/guide-python-static-class-abstract-methods):"
   ]
  },
  {
   "cell_type": "code",
   "execution_count": null,
   "metadata": {},
   "outputs": [],
   "source": [
    "# initialize a SkyCood object named m44_center at the location of Praesepe\n",
    "m44_center = SkyCoord.from_name('Praesepe')"
   ]
  },
  {
   "cell_type": "code",
   "execution_count": null,
   "metadata": {},
   "outputs": [],
   "source": [
    "# uncomment and run these lines if you don't have an internet connection\n",
    "# m44_center = SkyCoord(130.1*u.degree, 19.6667*u.degree, frame='icrs')"
   ]
  },
  {
   "cell_type": "markdown",
   "metadata": {},
   "source": [
    "Show the available methods and attributes of the SkyCoord object we've created called `m44_center`"
   ]
  },
  {
   "cell_type": "code",
   "execution_count": null,
   "metadata": {},
   "outputs": [],
   "source": [
    "type(m44_center)"
   ]
  },
  {
   "cell_type": "code",
   "execution_count": null,
   "metadata": {},
   "outputs": [],
   "source": [
    "dir(m44_center)"
   ]
  },
  {
   "cell_type": "markdown",
   "metadata": {},
   "source": [
    "Show the RA and Dec."
   ]
  },
  {
   "cell_type": "code",
   "execution_count": null,
   "metadata": {},
   "outputs": [],
   "source": [
    "print(m44_center.ra, m44_center.dec)\n",
    "print(m44_center.ra.hour, m44_center.dec)"
   ]
  },
  {
   "cell_type": "markdown",
   "metadata": {},
   "source": [
    "This object we just created has various useful ways of accessing the information contained within it.  In particular, the ``ra`` and ``dec`` attributes are specialized [``Quantity``](http://docs.astropy.org/en/stable/units/index.html) objects (actually, a subclass called [``Angle``](http://docs.astropy.org/en/stable/api/astropy.coordinates.Angle.html), which in turn is subclassed by [``Latitude``](http://docs.astropy.org/en/stable/api/astropy.coordinates.Latitude.html) and [``Longitude``](http://docs.astropy.org/en/stable/api/astropy.coordinates.Longitude.html)).  These objects store angles and provide pretty representations of those angles, as well as some useful attributes to quickly convert to common angle units:"
   ]
  },
  {
   "cell_type": "code",
   "execution_count": null,
   "metadata": {},
   "outputs": [],
   "source": [
    "type(m44_center.ra), type(m44_center.dec)"
   ]
  },
  {
   "cell_type": "code",
   "execution_count": null,
   "metadata": {},
   "outputs": [],
   "source": [
    "m44_center.ra, m44_center.dec"
   ]
  },
  {
   "cell_type": "code",
   "execution_count": null,
   "metadata": {},
   "outputs": [],
   "source": [
    "m44_center"
   ]
  },
  {
   "cell_type": "code",
   "execution_count": null,
   "metadata": {},
   "outputs": [],
   "source": [
    "m44_center.ra.hour"
   ]
  },
  {
   "cell_type": "markdown",
   "metadata": {},
   "source": [
    "SkyCoord will also accept string-formatted coordinates either as separate strings for ra/dec or a single string.  You'll have to give units, though, if they aren't part of the string itself."
   ]
  },
  {
   "cell_type": "code",
   "execution_count": null,
   "metadata": {},
   "outputs": [],
   "source": [
    "SkyCoord(\"08:40:24 +19:59:00\", unit=(u.hourangle,u.degree), frame='icrs')"
   ]
  },
  {
   "cell_type": "markdown",
   "metadata": {},
   "source": [
    "# Plot the distribution of open clusters on the sky"
   ]
  },
  {
   "cell_type": "markdown",
   "metadata": {},
   "source": [
    "## First read in the cluster data\n",
    "\n",
    "Kharchenko et al. (2013) looked for clusters primarily in the Galactic Plane "
   ]
  },
  {
   "cell_type": "code",
   "execution_count": null,
   "metadata": {},
   "outputs": [],
   "source": [
    "# Read in the cluster catalog\n",
    "khar_full = at.read(\"kharchenko2013_clusters.csv\",delimiter=\",\",\n",
    "                data_start=1,header_start=0)\n",
    "# M44 and the Hyades aren't in there (too nearby to appear as an overdensity)\n",
    "# Print the catalog columns\n",
    "print(khar_full.dtype)"
   ]
  },
  {
   "cell_type": "code",
   "execution_count": null,
   "metadata": {},
   "outputs": [],
   "source": [
    "# We're only interested in Open Clusters, which have a \"Type\" set in the catalog\n",
    "ocs = khar_full[\"Type\"].mask.nonzero()[0]\n",
    "print(ocs)\n",
    "# Select a smaller catalog, made only of OCs\n",
    "khar = khar_full[ocs]"
   ]
  },
  {
   "cell_type": "code",
   "execution_count": null,
   "metadata": {},
   "outputs": [],
   "source": [
    "# Compute the height of each cluster above the Galactic Plane\n",
    "# GLAT is the cluster's galactic latitude, and \"d\" is its distance\n",
    "# Then we just use simple Trig\n",
    "khar_z = np.sin(khar[\"GLAT\"] * np.pi / 180) * khar[\"d\"]\n",
    "# print(khar_z)\n",
    "\n",
    "\n",
    "# Define a SkyCoord object using the RA (longitude on the sky)\n",
    "# and Decliation (latitude on the sky) of each cluster\n",
    "# In this case, we're passing in arrays of RA and Dec, \n",
    "# and then defining the unit separately\n",
    "khar_pos = SkyCoord(khar[\"RAJ2000\"],khar[\"DEJ2000\"],\n",
    "                     unit=u.deg,frame=\"icrs\")"
   ]
  },
  {
   "cell_type": "markdown",
   "metadata": {},
   "source": [
    "Schmeja et al. (2014) extended the Kharchenko catalog, but focused on far away clusters that were missed in their initial search"
   ]
  },
  {
   "cell_type": "code",
   "execution_count": null,
   "metadata": {},
   "outputs": [],
   "source": [
    "# Read in the catalog\n",
    "schm = at.read(\"schmeja2014_clusters.csv\",delimiter=\",\",\n",
    "               data_start=1,header_start=0)\n",
    "print(schm.dtype)\n",
    "\n",
    "# Also compute the height above the Galactic plane\n",
    "# and generate a SkyCoord object for the Schmeja clusters\n",
    "schm_z = np.sin(schm[\"GLAT\"] * np.pi / 180) * schm[\"d\"]\n",
    "schm_pos = SkyCoord(schm[\"RAJ2000\"],schm[\"DEJ2000\"],unit=u.deg,frame=\"icrs\")"
   ]
  },
  {
   "cell_type": "markdown",
   "metadata": {},
   "source": [
    "## Now plot the clusters\n",
    "\n",
    "First, before we get to different projections, let's just plot the clusters in RA and Dec"
   ]
  },
  {
   "cell_type": "code",
   "execution_count": null,
   "metadata": {},
   "outputs": [],
   "source": [
    "plt.figure(figsize=(10,8))\n",
    "# Define the subplot axis\n",
    "ax = plt.subplot(111)\n",
    "\n",
    "# Now plot the RA and Dec of each cluster\n",
    "ax.plot(khar_pos.ra,khar_pos.dec,\n",
    "        'kx',alpha=0.5,label=\"Kharchenko+2013\")\n",
    "ax.plot(schm_pos.ra,schm_pos.dec,\n",
    "        'ks',mfc=\"none\",alpha=0.5,label=\"Schmeja+2014\")\n",
    "\n",
    "# Now we re-label the axes to be the familiar hours of RA\n",
    "# If we were working with Earth-based data, then you could skip this step\n",
    "# and leave longitude as degrees from -180 to 180\n",
    "# ax.set_xticklabels(['14h','16h','18h','20h','22h',\n",
    "#                     '0h','2h','4h','6h','8h','10h'])\n",
    "\n",
    "# Turn on the axes background grid\n",
    "ax.grid(True)\n",
    "ax.set_xlabel(\"RA\")\n",
    "ax.set_ylabel(\"Dec\")\n",
    "ax.set_xlim(0,360)\n",
    "\n",
    "_ = plt.title(\"Equatorial Coords\")"
   ]
  },
  {
   "cell_type": "markdown",
   "metadata": {},
   "source": [
    "For later, though, we're going to want to center RA=0hr, or 180 degrees. We have to force the RA to \"wrap\", so that it runs from -180 to 180 instead of 0 to 360, and then relabel the axes"
   ]
  },
  {
   "cell_type": "code",
   "execution_count": null,
   "metadata": {},
   "outputs": [],
   "source": [
    "plt.figure(figsize=(10,8))\n",
    "# Define the subplot axis\n",
    "ax = plt.subplot(111)\n",
    "\n",
    "# Now plot the RA and Dec of each cluster\n",
    "ax.plot(khar_pos.ra.wrap_at(180 * u.deg),khar_pos.dec,\n",
    "        'kx',alpha=0.5,label=\"Kharchenko+2013\")\n",
    "ax.plot(schm_pos.ra.wrap_at(180 * u.deg),schm_pos.dec,\n",
    "        'ks',mfc=\"none\",alpha=0.5,label=\"Schmeja+2014\")\n",
    "\n",
    "ax.set_xlim(-180,180)\n",
    "ax.set_xticks(np.arange(-180,181,30))\n",
    "# Because the convention is to have RA run from 0-360,\n",
    "# we have to re-label the axes. \n",
    "# For Earth-based data you don't need to do this\n",
    "ax.set_xticklabels(np.append(np.arange(180,360,30),np.arange(0,181,30)))\n",
    "\n",
    "ax.set_xlabel(\"RA\")\n",
    "ax.set_ylabel(\"Dec\")\n",
    "\n",
    "# Turn on the axes background grid\n",
    "ax.grid(True)\n",
    "\n",
    "_ = plt.title(\"Equatorial Coords\")"
   ]
  },
  {
   "cell_type": "markdown",
   "metadata": {},
   "source": [
    "# What if we want to plot the clusters in a sky projection?\n",
    "\n",
    "For more information on using geometric projections in Matplotlib, see \n",
    "https://matplotlib.org/gallery/subplots_axes_and_figures/geo_demo.html"
   ]
  },
  {
   "cell_type": "markdown",
   "metadata": {},
   "source": [
    "First, we'll plot in the \"aitoff\" projection - this tries to compromise between minimizing distortion while representing distances accurately\n",
    "\n",
    "Note that now we have to convert the coordinates to radians before plotting - thankfully, `SkyCoord` makes this easy! Just use ``.radian``"
   ]
  },
  {
   "cell_type": "code",
   "execution_count": null,
   "metadata": {},
   "outputs": [],
   "source": [
    "plt.figure(figsize=(10,8))\n",
    "# Define the subplot axis, and set the appropriate projection keyword\n",
    "ax = plt.subplot(111, projection=\"aitoff\")\n",
    "\n",
    "# Plot the RA and Dec of each cluster\n",
    "# Now, not only do we have to force the \n",
    "ax.plot(khar_pos.ra.wrap_at(180 * u.deg).radian,\n",
    "        khar_pos.dec.radian,\n",
    "        'kx',alpha=0.5,label=\"Kharchenko+2013\")\n",
    "ax.plot(schm_pos.ra.wrap_at(180 * u.deg).radian,\n",
    "        schm_pos.dec.radian,\n",
    "        'ks',mfc=\"none\",alpha=0.5,label=\"Schmeja+2014\")\n",
    "\n",
    "# Re-label the axes\n",
    "ax.set_xticklabels(np.append(np.arange(210,360,30),np.arange(0,181,30)))\n",
    "\n",
    "# Turn on the axes background grid\n",
    "ax.grid(True)\n",
    "\n",
    "_ = plt.title(\"Ecliptic Coords, Aitoff Projection\")"
   ]
  },
  {
   "cell_type": "markdown",
   "metadata": {},
   "source": [
    "So the above plot is in Equatorial coordinates - as though you projected the Earth's lat/long outward onto the sky in RA/Dec. The plane of the solar system is shown in the line, and the Galactic plane is shown by the location of all those clusters\n",
    "\n",
    "We can plot this in some other fun projections as well"
   ]
  },
  {
   "cell_type": "code",
   "execution_count": null,
   "metadata": {},
   "outputs": [],
   "source": [
    "plt.figure(figsize=(10,8))\n",
    "# Define the subplot axis, and set the appropriate projection keyword\n",
    "ax = plt.subplot(111, projection=\"mollweide\")\n",
    "\n",
    "# Plot the RA and Dec of each cluster\n",
    "# Now, not only do we have to force the \n",
    "ax.plot(khar_pos.ra.wrap_at(180 * u.deg).radian,\n",
    "        khar_pos.dec.radian,\n",
    "        'kx',alpha=0.5,label=\"Kharchenko+2013\")\n",
    "ax.plot(schm_pos.ra.wrap_at(180 * u.deg).radian,\n",
    "        schm_pos.dec.radian,\n",
    "        'ks',mfc=\"none\",alpha=0.5,label=\"Schmeja+2014\")\n",
    "\n",
    "# Re-label the axes\n",
    "ax.set_xticklabels(np.append(np.arange(210,360,30),np.arange(0,181,30)))\n",
    "\n",
    "# Turn on the axes background grid\n",
    "ax.grid(True)\n",
    "_ = plt.title(\"Ecliptic Coords, Mollweide Projection\")"
   ]
  },
  {
   "cell_type": "code",
   "execution_count": null,
   "metadata": {},
   "outputs": [],
   "source": [
    "plt.figure(figsize=(10,8))\n",
    "# Define the subplot axis, and set the appropriate projection keyword\n",
    "ax = plt.subplot(111, projection=\"lambert\")\n",
    "\n",
    "# Plot the RA and Dec of each cluster\n",
    "# Now, not only do we have to force the \n",
    "ax.plot(khar_pos.ra.wrap_at(180 * u.deg).radian,\n",
    "        khar_pos.dec.radian,\n",
    "        'kx',alpha=0.5,label=\"Kharchenko+2013\")\n",
    "ax.plot(schm_pos.ra.wrap_at(180 * u.deg).radian,\n",
    "        schm_pos.dec.radian,\n",
    "        'ks',mfc=\"none\",alpha=0.5,label=\"Schmeja+2014\")\n",
    "\n",
    "# Re-label the axes\n",
    "ax.set_xticklabels(np.append(np.arange(210,360,30),np.arange(0,181,30)))\n",
    "\n",
    "# Turn on the axes background grid\n",
    "ax.grid(True)\n",
    "_ = plt.title(\"Ecliptic Coords, Lambert Projection\")"
   ]
  },
  {
   "cell_type": "markdown",
   "metadata": {},
   "source": [
    "## Galactic Coordinates"
   ]
  },
  {
   "cell_type": "code",
   "execution_count": null,
   "metadata": {},
   "outputs": [],
   "source": [
    "plt.figure(figsize=single_figure)\n",
    "ax1 = plt.subplot(211)\n",
    "\n",
    "ax1.plot(khar[\"GLON\"],khar_z,'kx',alpha=0.5)\n",
    "ax1.plot(schm[\"GLON\"],schm_z,'ks',mfc=\"none\",alpha=0.5,label=\"Schmeja+2014\")\n",
    "\n",
    "# ax1.set_xscale(\"log\")\n",
    "ax1.set_xlim(0,360)\n",
    "ax1.set_ylim(-4e3,4e3)\n",
    "\n",
    "# ax1.set_xlabel(\"Distance (pc)\")\n",
    "ax1.set_ylabel(\"Z (pc)\")\n",
    "\n",
    "\n",
    "ax2 = plt.subplot(212,sharex=ax1)\n",
    "\n",
    "ax2.plot(khar[\"GLON\"],khar[\"GLAT\"],'kx',alpha=0.5)\n",
    "ax2.plot(schm[\"GLON\"],schm[\"GLAT\"],'ks',mfc=\"none\",alpha=0.5,label=\"Schmeja+2014\")\n",
    "\n",
    "# ax2.set_xscale(\"log\")\n",
    "# ax.set_yscale(\"log\")\n",
    "\n",
    "ax2.set_ylim(-90,90)\n",
    "ax2.set_xlim(0,360)\n",
    "\n",
    "ax2.set_xlabel(\"l (deg)\")\n",
    "ax2.set_ylabel(\"b (deg)\")\n",
    "\n"
   ]
  },
  {
   "cell_type": "markdown",
   "metadata": {},
   "source": [
    "### Transform to Galactic Coordinates"
   ]
  },
  {
   "cell_type": "markdown",
   "metadata": {},
   "source": [
    "Now let's go back to the aitoff projection, but plotting in Galactic coordinates, instead of Ecliptic coordinages"
   ]
  },
  {
   "cell_type": "code",
   "execution_count": null,
   "metadata": {},
   "outputs": [],
   "source": [
    "plt.figure(figsize=(10,8))\n",
    "ax = plt.subplot(111, projection=\"aitoff\")\n",
    "\n",
    "# Astropy SkyCoord positions automatically include Galactic coordinates\n",
    "# accessible using .galactic.l (for Galactic longitude)\n",
    "# and .galactic.b (for Galactic latitude)\n",
    "# And again we have to wrap the longitude at 180 degrees\n",
    "# in order to center 0 on our plot\n",
    "ax.plot(khar_pos.galactic.l.wrap_at(180 * u.deg).radian,\n",
    "         khar_pos.galactic.b.radian,\n",
    "         'kx',alpha=0.5,label=\"Kharchenko+2013\")\n",
    "ax.plot(schm_pos.galactic.l.wrap_at(180 * u.deg).radian,schm_pos.galactic.b.radian,\n",
    "         'ks',mfc=\"none\",alpha=0.5,label=\"Schmeja+2014\")\n",
    "\n",
    "ax.set_xticklabels([r\"210$\\degree$\",r\"240$\\degree$\",r\"270$\\degree$\",\n",
    "                   r\"300$\\degree$\",r\"330$\\degree$\",r\"0$\\degree$\",\n",
    "                   r\"30$\\degree$\",r\"60$\\degree$\",r\"90$\\degree$\",\n",
    "                   r\"120$\\degree$\",r\"150$\\degree$\",])\n",
    "# ax.set_yticklabels([])\n",
    "ax.grid(True)\n",
    "\n",
    "# We have to rearrange the Ecliptic coordinates here too\n",
    "ecliptic_l = ecliptic.galactic.l.wrap_at(180 * u.deg).radian\n",
    "ecliptic_b = ecliptic.galactic.b.radian\n",
    "new_ecl = np.argsort(ecliptic_l)\n",
    "ecliptic_l = ecliptic_l[new_ecl]\n",
    "ecliptic_b = ecliptic_b[new_ecl]\n",
    "\n",
    "ax.plot(ecliptic_l,ecliptic_b,'-',lw=2,zorder=-1)\n",
    "\n",
    "_ = plt.title(\"Galactic Coords, Aitoff Projection\")"
   ]
  },
  {
   "cell_type": "code",
   "execution_count": null,
   "metadata": {},
   "outputs": [],
   "source": []
  },
  {
   "cell_type": "code",
   "execution_count": null,
   "metadata": {},
   "outputs": [],
   "source": []
  }
 ],
 "metadata": {
  "kernelspec": {
   "display_name": "Python 3",
   "language": "python",
   "name": "python3"
  },
  "language_info": {
   "codemirror_mode": {
    "name": "ipython",
    "version": 3
   },
   "file_extension": ".py",
   "mimetype": "text/x-python",
   "name": "python",
   "nbconvert_exporter": "python",
   "pygments_lexer": "ipython3",
   "version": "3.6.5"
  }
 },
 "nbformat": 4,
 "nbformat_minor": 1
}
