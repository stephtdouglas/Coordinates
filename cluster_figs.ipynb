{
 "cells": [
  {
   "cell_type": "code",
   "execution_count": null,
   "metadata": {},
   "outputs": [],
   "source": [
    "from __future__ import division, print_function, absolute_import \n",
    "\n",
    "import matplotlib.pyplot as plt\n",
    "%matplotlib inline\n",
    "# import matplotlib.ticker\n",
    "import matplotlib.cm as cm\n",
    "import matplotlib.colors as colors\n",
    "from matplotlib.font_manager import FontProperties\n",
    "import numpy as np\n",
    "import astropy.io.ascii as at\n",
    "import astropy.io.fits as fits\n",
    "import astropy.table as table\n",
    "import astropy.units as u\n",
    "from astropy.coordinates import SkyCoord"
   ]
  },
  {
   "cell_type": "markdown",
   "metadata": {},
   "source": [
    "# A few definitions"
   ]
  },
  {
   "cell_type": "code",
   "execution_count": null,
   "metadata": {},
   "outputs": [],
   "source": [
    "single_figure = (8,8)"
   ]
  },
  {
   "cell_type": "code",
   "execution_count": null,
   "metadata": {},
   "outputs": [],
   "source": [
    "import matplotlib as mpl\n",
    "mpl.rcParams['lines.markeredgewidth'] = 1.5\n",
    "mpl.rcParams['lines.markersize'] = 8\n",
    "mpl.rcParams['font.size'] = 16\n",
    "mpl.rcParams['axes.titlesize'] = 24\n",
    "mpl.rcParams['axes.labelsize'] = 22\n",
    "mpl.rcParams['xtick.major.size'] = 6\n",
    "mpl.rcParams['xtick.minor.size'] = 3\n",
    "mpl.rcParams['xtick.major.width'] = 1.5\n",
    "mpl.rcParams['xtick.minor.width'] = 1\n",
    "mpl.rcParams['xtick.labelsize'] = 18\n",
    "mpl.rcParams['ytick.major.size'] = 6\n",
    "mpl.rcParams['ytick.minor.size'] = 3\n",
    "mpl.rcParams['ytick.major.width'] = 1.5\n",
    "mpl.rcParams['ytick.minor.width'] = 1\n",
    "mpl.rcParams['ytick.labelsize'] = 18\n",
    "mpl.rcParams['legend.frameon'] = False\n",
    "mpl.rcParams['legend.numpoints'] = 1\n",
    "mpl.rcParams['legend.fontsize'] = 16\n",
    "# mpl.rcParams[''] = "
   ]
  },
  {
   "cell_type": "code",
   "execution_count": null,
   "metadata": {},
   "outputs": [],
   "source": [
    "ecliptic = SkyCoord(np.linspace(0,360,1000),np.zeros(1000),unit=u.deg,frame=\"barycentrictrueecliptic\")"
   ]
  },
  {
   "cell_type": "markdown",
   "metadata": {},
   "source": [
    "# Plot the distribution of open clusters on the sky"
   ]
  },
  {
   "cell_type": "markdown",
   "metadata": {},
   "source": [
    "## First read in the cluster data\n",
    "\n",
    "Kharchenko et al. (2013) looked for clusters primarily in the Galactic Plane "
   ]
  },
  {
   "cell_type": "code",
   "execution_count": null,
   "metadata": {},
   "outputs": [],
   "source": [
    "# Read in the cluster catalog\n",
    "khar_full = at.read(\"kharchenko2013_clusters.csv\",delimiter=\",\",\n",
    "                data_start=1,header_start=0)\n",
    "# NGC_2632 (M44) and Hyades aren't in there (too nearby to appear as an overdensity)\n",
    "# Print the catalog columns\n",
    "print(khar_full.dtype)"
   ]
  },
  {
   "cell_type": "code",
   "execution_count": null,
   "metadata": {},
   "outputs": [],
   "source": [
    "# I'm only interested in Open Clusters, which have a \"Type\" set in the catalog\n",
    "ocs = khar_full[\"Type\"].mask.nonzero()[0]\n",
    "# print(ocs)\n",
    "# Select a smaller catalog, made only of OCs\n",
    "khar = khar_full[ocs]"
   ]
  },
  {
   "cell_type": "code",
   "execution_count": null,
   "metadata": {},
   "outputs": [],
   "source": [
    "# Compute the height of each cluster above the Galactic Plane\n",
    "# GLAT is the cluster's galactic latitude, and \"d\" is its distance\n",
    "# Then we just use simple Trig\n",
    "khar_z = np.sin(khar[\"GLAT\"] * np.pi / 180) * khar[\"d\"]\n",
    "# print(khar_z)\n",
    "\n",
    "\n",
    "# Define a SkyCoord object using the RA (longitude on the sky)\n",
    "# and Decliation (latitude on the sky) of each cluster\n",
    "khar_pos = SkyCoord(khar[\"RAJ2000\"],khar[\"DEJ2000\"],\n",
    "                     unit=u.deg,frame=\"icrs\")"
   ]
  },
  {
   "cell_type": "markdown",
   "metadata": {},
   "source": [
    "Schmeja et al. (2014) extended the Kharchenko catalog, but focused on far away clusters that were missed in their initial search"
   ]
  },
  {
   "cell_type": "code",
   "execution_count": null,
   "metadata": {},
   "outputs": [],
   "source": [
    "# Read in the catalog\n",
    "schm = at.read(\"schmeja2014_clusters.csv\",delimiter=\",\",\n",
    "               data_start=1,header_start=0)\n",
    "print(schm.dtype)\n",
    "\n",
    "# Also compute the height above the Galactic plane\n",
    "# and generate a SkyCoord object for the Schmeja clusters\n",
    "schm_z = np.sin(schm[\"GLAT\"] * np.pi / 180) * schm[\"d\"]\n",
    "schm_pos = SkyCoord(schm[\"RAJ2000\"],schm[\"DEJ2000\"],unit=u.deg,frame=\"icrs\")"
   ]
  },
  {
   "cell_type": "code",
   "execution_count": null,
   "metadata": {},
   "outputs": [],
   "source": [
    "plt.figure(figsize=single_figure)\n",
    "ax = plt.subplot(111)\n",
    "\n",
    "ax.plot(khar[\"d\"],10**khar[\"logt\"],'kx',alpha=0.5)\n",
    "ax.plot(schm[\"d\"],10**schm[\"logt\"],'rs',alpha=0.5)\n",
    "\n",
    "ax.set_xscale(\"log\")\n",
    "ax.set_yscale(\"log\")\n",
    "\n",
    "ax.set_xlim(10,1e4)\n",
    "ax.set_ylim(1e6,2e10)\n",
    "\n",
    "ax.set_xlabel(\"Distance (pc)\")\n",
    "ax.set_ylabel(\"Age (yr)\")\n",
    "\n",
    "plt.savefig(\"all_clusters_age_dist.png\",bbox_inches=\"tight\",dpi=300)"
   ]
  },
  {
   "cell_type": "code",
   "execution_count": null,
   "metadata": {},
   "outputs": [],
   "source": [
    "plt.figure(figsize=(8,4))\n",
    "ax2 = plt.subplot(111)\n",
    "\n",
    "ax2.plot(khar[\"d\"],khar_z,'kx',alpha=0.5)\n",
    "ax2.plot(schm[\"d\"],schm_z,'rs',alpha=0.5)\n",
    "\n",
    "ax2.set_xscale(\"log\")\n",
    "ax2.set_xlim(10,1e4)\n",
    "ax2.set_ylim(-2.2e3,2.2e3)\n",
    "\n",
    "ax2.set_xlabel(\"Distance (pc)\")\n",
    "ax2.set_ylabel(\"Z (pc)\")\n",
    "\n",
    "plt.savefig(\"all_clusters_age_Z.png\",bbox_inches=\"tight\",dpi=300)"
   ]
  },
  {
   "cell_type": "code",
   "execution_count": null,
   "metadata": {},
   "outputs": [],
   "source": [
    "plt.figure(figsize=(8,12))\n",
    "ax1 = plt.subplot2grid((3,1),(0,0),rowspan=2)\n",
    "\n",
    "ax1.plot(khar[\"d\"],10**khar[\"logt\"],'kx',alpha=0.5,label=\"Kharchenko+2013\")\n",
    "ax1.plot(schm[\"d\"],10**schm[\"logt\"],'rs',\n",
    "         alpha=0.5,label=\"Schmeja+2014\")\n",
    "\n",
    "ax1.set_xscale(\"log\")\n",
    "ax1.set_yscale(\"log\")\n",
    "\n",
    "ax1.set_xlim(10,1e4)\n",
    "ax1.set_ylim(1e6,2e10)\n",
    "\n",
    "# ax1.set_xlabel(\"Distance (pc)\")\n",
    "ax1.set_ylabel(\"Age (yr)\")\n",
    "\n",
    "ax1.legend(loc=3,borderaxespad=0)\n",
    "\n",
    "ax2 = plt.subplot2grid((3,1),(2,0),rowspan=1)\n",
    "\n",
    "ax2.plot(khar[\"d\"],khar_z,'kx',alpha=0.5)\n",
    "ax2.plot(schm[\"d\"],schm_z,'rs',alpha=0.5)\n",
    "\n",
    "\n",
    "ax2.set_xscale(\"log\")\n",
    "ax2.set_xlim(10,1e4)\n",
    "ax2.set_ylim(-2.2e3,2.2e3)\n",
    "\n",
    "ax2.set_xlabel(\"Distance (pc)\")\n",
    "ax2.set_ylabel(\"Z (pc)\")\n",
    "\n",
    "plt.savefig(\"all_clusters.png\",bbox_inches=\"tight\")"
   ]
  },
  {
   "cell_type": "code",
   "execution_count": null,
   "metadata": {},
   "outputs": [],
   "source": [
    "plt.figure(figsize=single_figure)\n",
    "ax1 = plt.subplot(211)\n",
    "\n",
    "ax1.plot(10**khar[\"logt\"],khar_z,'kx',alpha=0.5)\n",
    "ax1.plot(10**schm[\"logt\"],schm_z,'ks',alpha=0.5,label=\"Schmeja+2014\")\n",
    "\n",
    "ax1.set_xscale(\"log\")\n",
    "ax1.set_xlim(1e6,2e10)\n",
    "ax1.set_ylim(-4e3,4e3)\n",
    "\n",
    "# ax1.set_xlabel(\"Distance (pc)\")\n",
    "ax1.set_ylabel(\"Z (pc)\")\n",
    "\n",
    "\n",
    "ax2 = plt.subplot(212)\n",
    "\n",
    "ax2.plot(10**khar[\"logt\"],khar[\"GLAT\"],'kx',alpha=0.5)\n",
    "ax2.plot(10**schm[\"logt\"],schm[\"GLAT\"],'ks',alpha=0.5,label=\"Schmeja+2014\")\n",
    "\n",
    "ax2.set_xscale(\"log\")\n",
    "# ax.set_yscale(\"log\")\n",
    "\n",
    "ax2.set_xlim(1e6,2e10)\n",
    "\n",
    "ax2.set_xlabel(\"Age (yr)\")\n",
    "ax2.set_ylabel(\"b (deg)\")\n",
    "\n"
   ]
  },
  {
   "cell_type": "code",
   "execution_count": null,
   "metadata": {},
   "outputs": [],
   "source": [
    "plt.figure(figsize=single_figure)\n",
    "ax1 = plt.subplot(211)\n",
    "\n",
    "ax1.plot(khar[\"GLON\"],khar_z,'kx',alpha=0.5)\n",
    "ax1.plot(schm[\"GLON\"],schm_z,'ks',mfc=\"none\",alpha=0.5,label=\"Schmeja+2014\")\n",
    "\n",
    "# ax1.set_xscale(\"log\")\n",
    "ax1.set_xlim(0,360)\n",
    "ax1.set_ylim(-5e3,5e3)\n",
    "\n",
    "# ax1.set_xlabel(\"Distance (pc)\")\n",
    "ax1.set_ylabel(\"Z (pc)\")\n",
    "\n",
    "\n",
    "ax2 = plt.subplot(212,sharex=ax1)\n",
    "\n",
    "ax2.plot(khar[\"GLON\"],khar[\"GLAT\"],'kx',alpha=0.5)\n",
    "ax2.plot(schm[\"GLON\"],schm[\"GLAT\"],'ks',mfc=\"none\",alpha=0.5,label=\"Schmeja+2014\")\n",
    "\n",
    "# ax2.set_xscale(\"log\")\n",
    "# ax.set_yscale(\"log\")\n",
    "\n",
    "ax2.set_ylim(-90,90)\n",
    "ax2.set_xlim(0,360)\n",
    "\n",
    "ax2.set_xlabel(\"l (deg)\")\n",
    "ax2.set_ylabel(\"b (deg)\")\n",
    "\n"
   ]
  },
  {
   "cell_type": "code",
   "execution_count": null,
   "metadata": {},
   "outputs": [],
   "source": [
    "plt.figure(figsize=(10,8))\n",
    "ax2 = plt.subplot(111, projection=\"aitoff\")\n",
    "\n",
    "ax2.plot(khar_pos.ra.wrap_at(180 * u.deg).radian,khar_pos.dec.radian,'kx',alpha=0.5,label=\"Kharchenko+2013\")\n",
    "ax2.plot(schm_pos.ra.wrap_at(180 * u.deg).radian,schm_pos.dec.radian,'ks',mfc=\"none\",alpha=0.5,label=\"Schmeja+2014\")\n",
    "\n",
    "ax2.set_xticklabels(['14h','16h','18h','20h','22h','0h','2h','4h','6h','8h','10h'])\n",
    "ax2.grid(True)\n",
    "\n",
    "ecliptic_ra = ecliptic.icrs.ra.wrap_at(180 * u.deg).radian\n",
    "ecliptic_dec = ecliptic.icrs.dec.radian\n",
    "new_ecl = np.argsort(ecliptic_ra)\n",
    "ecliptic_ra = ecliptic_ra[new_ecl]\n",
    "ecliptic_dec = ecliptic_dec[new_ecl]\n",
    "\n",
    "ax2.plot(ecliptic_ra,ecliptic_dec,'-',lw=2,zorder=-1)\n",
    "\n",
    "\n",
    "# ax2.legend()\n",
    "\n",
    "plt.savefig(\"all_clusters_equatorial.png\",bbox_inches=\"tight\")\n"
   ]
  },
  {
   "cell_type": "code",
   "execution_count": null,
   "metadata": {},
   "outputs": [],
   "source": [
    "plt.figure(figsize=(10,8))\n",
    "ax2 = plt.subplot(111, projection=\"aitoff\")\n",
    "\n",
    "ax2.plot(khar_pos.galactic.l.wrap_at(180 * u.deg).radian,khar_pos.galactic.b.radian,\n",
    "         'kx',alpha=0.5,label=\"Kharchenko+2013\")\n",
    "ax2.plot(schm_pos.galactic.l.wrap_at(180 * u.deg).radian,schm_pos.galactic.b.radian,\n",
    "         'ks',mfc=\"none\",alpha=0.5,label=\"Schmeja+2014\")\n",
    "\n",
    "ax2.set_xticklabels([])\n",
    "ax2.set_yticklabels([])\n",
    "ax2.grid(True)\n",
    "\n",
    "\n",
    "ecliptic_l = ecliptic.galactic.l.wrap_at(180 * u.deg).radian\n",
    "ecliptic_b = ecliptic.galactic.b.radian\n",
    "new_ecl = np.argsort(ecliptic_l)\n",
    "ecliptic_l = ecliptic_l[new_ecl]\n",
    "ecliptic_b = ecliptic_b[new_ecl]\n",
    "\n",
    "ax2.plot(ecliptic_l,ecliptic_b,'-',lw=2,zorder=-1)\n",
    "\n",
    "# ax2.legend()\n",
    "\n"
   ]
  },
  {
   "cell_type": "code",
   "execution_count": null,
   "metadata": {},
   "outputs": [],
   "source": []
  },
  {
   "cell_type": "code",
   "execution_count": null,
   "metadata": {},
   "outputs": [],
   "source": []
  },
  {
   "cell_type": "code",
   "execution_count": null,
   "metadata": {},
   "outputs": [],
   "source": []
  }
 ],
 "metadata": {
  "kernelspec": {
   "display_name": "Python 3",
   "language": "python",
   "name": "python3"
  },
  "language_info": {
   "codemirror_mode": {
    "name": "ipython",
    "version": 3
   },
   "file_extension": ".py",
   "mimetype": "text/x-python",
   "name": "python",
   "nbconvert_exporter": "python",
   "pygments_lexer": "ipython3",
   "version": "3.6.5"
  }
 },
 "nbformat": 4,
 "nbformat_minor": 1
}
